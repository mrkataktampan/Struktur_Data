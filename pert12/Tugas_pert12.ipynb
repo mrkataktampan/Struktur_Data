{
 "cells": [
  {
   "cell_type": "markdown",
   "metadata": {},
   "source": [
    "## Jawaban"
   ]
  },
  {
   "cell_type": "markdown",
   "metadata": {},
   "source": [
    "1. Jarak terpendek edge A ke K = A -> C -> H -> K\n",
    "dengan jarak : \n",
    "A -> C = 15\n",
    "C -> H = 15 + 30 = 45\n",
    "H -> K = 45 + 20 = 65"
   ]
  }
 ],
 "metadata": {
  "language_info": {
   "name": "python"
  }
 },
 "nbformat": 4,
 "nbformat_minor": 2
}
